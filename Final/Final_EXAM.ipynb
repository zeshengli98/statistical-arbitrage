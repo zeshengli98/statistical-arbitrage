{
 "cells": [
  {
   "cell_type": "markdown",
   "id": "248fe069",
   "metadata": {
    "pycharm": {
     "name": "#%% md\n"
    }
   },
   "source": [
    "# Pairs Trading Strategy Design & Backtest\n",
    "\n",
    "The definition of Pairs Trading is to take advantage of the mispricing between two or more assets by taking long and short portfolio, betting the related movement will converge back when mispricing situation happening. The principle is buy undervalued and sell overvalued. This is a very charming strategy that we can extend the idea in any market of interest. \n",
    "\n",
    "The first pairs trading bears its roots in equity market, but we can possibly extend the idea into commodities, cryptos, and even options market."
   ]
  },
  {
   "cell_type": "code",
   "execution_count": null,
   "id": "104dc909",
   "metadata": {
    "pycharm": {
     "name": "#%%\n"
    }
   },
   "outputs": [],
   "source": []
  },
  {
   "cell_type": "markdown",
   "id": "37f5127c",
   "metadata": {
    "pycharm": {
     "name": "#%% md\n"
    }
   },
   "source": [
    "### Import required lib"
   ]
  },
  {
   "cell_type": "code",
   "execution_count": 551,
   "id": "52d2bf64",
   "metadata": {
    "pycharm": {
     "name": "#%%\n"
    }
   },
   "outputs": [],
   "source": [
    "import warnings\n",
    "import numpy as np\n",
    "import pandas as pd\n",
    "import datetime as dt\n",
    "import statsmodels.api as sm\n",
    "from statsmodels.tsa.api import adfuller\n",
    "import matplotlib.pyplot as plt\n",
    "import pyfolio as pf\n",
    "import yfinance as yf\n",
    "from scipy import optimize\n",
    "from scipy.stats import norm\n",
    "from sklearn.model_selection import train_test_split\n",
    "warnings.filterwarnings(\"ignore\")"
   ]
  },
  {
   "cell_type": "markdown",
   "id": "a1aaa53d",
   "metadata": {
    "pycharm": {
     "name": "#%% md\n"
    }
   },
   "source": [
    "The numerical techniques are regression computation in matrix form, Engle-Granger procedure, and statistical tests.\n",
    "\n",
    "A) multivariate cointegration (Johansen Procedure)\n",
    "\n",
    "\n",
    "B) robustness checking of cointegration weights, ie, by adaptive estimation of your regression parameters with statistical filters."
   ]
  },
  {
   "cell_type": "markdown",
   "id": "cfc09840",
   "metadata": {
    "pycharm": {
     "name": "#%% md\n"
    }
   },
   "source": [
    "## Signal Generation and Backtesting\n",
    "- Be inventive beyond equity pairs: consider commodity futures, instruments on interest rates, and aggregated indices. (Initially consider to find the candidate pairs from crude oil)\n",
    "- Arb is relized by using cointegrating coff as allocation w. all project designs should including trading signal generation(OU process fitting) and backtesting.\n",
    "- does P&L behave as expected for cointegration arb trade? Is P&L coming from a few or many trades, what is half-life? Maximum Drawdown and behaviour of volatility/VaR?\n",
    "- Introduce liquidity and algorithmic flow considerations (a model of order flow). Any rules on accumulating the position? What impact bid-ask spread and transaction costs will make?\n",
    "## Step-by-step instructions\n",
    "- multivariate cointegration to identify cases\n",
    "- Part I: pairs trading design\n",
    "    - 1. re-code regression estimation in martrix form - your own OLS implementation which you can re-use. Regression between stationary variables(DF test regression/difference equation) has optional model specification test for (a)identifying optimal lag p with AIC BIC tests and (b) stability check\n",
    "    - 2. Implement Engle-Granger procedure for each pair. Step1 use ADF test for unit root with lag1. Step2, formulate both correction equation and decide which one is more important\n",
    "    - 3. Decide signals: $\\mu_e\\pm Z\\sigma_{eq}$ and exit on $\\mu_t$\n",
    "    - 4. At first aussme Z=1. Then change Z sightly upwards and downwards - compute P&L for each case of bounds. Alternatively run an optimization that varies Z and maxmize the P&L or other criterion.\n",
    "    - 5. Optionally us VECM in order select the best candidate for pairs trading (or basket trading).\n",
    "    \n",
    "- Part II: Backtesting\n",
    "    - 1. perform systematic backtesting of your trading strategy platform o produce drawdown plots, rolling Sharpe ratio and rolling beta\n",
    "    - 2. keep delivering staionary spread over 3-6 months. Kalman filter will give updated beta. However, you can simply re-estmate cointergration by shifting data 1-2 weeks and report beta and EG.\n",
    "    - 3. use time series CV\n",
    "    \n",
    "    \n",
    "Time Series Project Workshop, Cointegration Lecture and Pairs Trading tutorial are your key resources."
   ]
  },
  {
   "cell_type": "code",
   "execution_count": null,
   "id": "455e971c",
   "metadata": {
    "pycharm": {
     "name": "#%%\n"
    }
   },
   "outputs": [],
   "source": []
  },
  {
   "cell_type": "markdown",
   "id": "5c3c9086",
   "metadata": {
    "pycharm": {
     "name": "#%% md\n"
    }
   },
   "source": [
    "# Part I: Pairs Trading Design\n",
    "## Data Processing\n",
    "One study by Jacob & Weber conducted several international markets which has empirically proven that the pairs trading works the most in emerging market, either from the high ineffciencies or a large number of available pairs. So I believe some innovative market has more opportunities than equity market.\n",
    "\n",
    "In this case, I want to study model-driven statistical arbitrage strategies in U.S. equities, commodities and crypto market. The crpyto is the youngest and has less research than other assets, which becomes very attractive for pairs trading strategy design. From those three different perspectives, we can identify multiple strategy implementations and more profitable opportunities. So, in the first step, we sort out a list of available symbols and prepare them for filtering."
   ]
  },
  {
   "cell_type": "code",
   "execution_count": 302,
   "id": "27396dd1",
   "metadata": {
    "pycharm": {
     "name": "#%%\n"
    }
   },
   "outputs": [
    {
     "name": "stdout",
     "output_type": "stream",
     "text": [
      "[*********************100%***********************]  6 of 6 completed\n",
      "[*********************100%***********************]  7 of 7 completed\n"
     ]
    },
    {
     "data": {
      "text/html": [
       "<div>\n",
       "<style scoped>\n",
       "    .dataframe tbody tr th:only-of-type {\n",
       "        vertical-align: middle;\n",
       "    }\n",
       "\n",
       "    .dataframe tbody tr th {\n",
       "        vertical-align: top;\n",
       "    }\n",
       "\n",
       "    .dataframe thead th {\n",
       "        text-align: right;\n",
       "    }\n",
       "</style>\n",
       "<table border=\"1\" class=\"dataframe\">\n",
       "  <thead>\n",
       "    <tr style=\"text-align: right;\">\n",
       "      <th></th>\n",
       "      <th>ADA-USD</th>\n",
       "      <th>BNB-USD</th>\n",
       "      <th>BTC-USD</th>\n",
       "      <th>DOGE-USD</th>\n",
       "      <th>ETH-USD</th>\n",
       "      <th>LTC-USD</th>\n",
       "      <th>SOL-USD</th>\n",
       "    </tr>\n",
       "    <tr>\n",
       "      <th>Date</th>\n",
       "      <th></th>\n",
       "      <th></th>\n",
       "      <th></th>\n",
       "      <th></th>\n",
       "      <th></th>\n",
       "      <th></th>\n",
       "      <th></th>\n",
       "    </tr>\n",
       "  </thead>\n",
       "  <tbody>\n",
       "    <tr>\n",
       "      <th>2021-07-01</th>\n",
       "      <td>1.335611</td>\n",
       "      <td>288.218414</td>\n",
       "      <td>33572.117188</td>\n",
       "      <td>0.244549</td>\n",
       "      <td>2113.605469</td>\n",
       "      <td>137.577530</td>\n",
       "      <td>33.404034</td>\n",
       "    </tr>\n",
       "    <tr>\n",
       "      <th>2021-07-02</th>\n",
       "      <td>1.394397</td>\n",
       "      <td>287.423096</td>\n",
       "      <td>33897.046875</td>\n",
       "      <td>0.245264</td>\n",
       "      <td>2150.040283</td>\n",
       "      <td>136.943695</td>\n",
       "      <td>34.020481</td>\n",
       "    </tr>\n",
       "    <tr>\n",
       "      <th>2021-07-03</th>\n",
       "      <td>1.406836</td>\n",
       "      <td>298.237122</td>\n",
       "      <td>34668.546875</td>\n",
       "      <td>0.246411</td>\n",
       "      <td>2226.114258</td>\n",
       "      <td>140.279694</td>\n",
       "      <td>34.478817</td>\n",
       "    </tr>\n",
       "    <tr>\n",
       "      <th>2021-07-04</th>\n",
       "      <td>1.458184</td>\n",
       "      <td>307.732086</td>\n",
       "      <td>35287.781250</td>\n",
       "      <td>0.246483</td>\n",
       "      <td>2321.724121</td>\n",
       "      <td>144.905853</td>\n",
       "      <td>34.310600</td>\n",
       "    </tr>\n",
       "    <tr>\n",
       "      <th>2021-07-05</th>\n",
       "      <td>1.404898</td>\n",
       "      <td>302.377991</td>\n",
       "      <td>33746.003906</td>\n",
       "      <td>0.231614</td>\n",
       "      <td>2198.582520</td>\n",
       "      <td>138.073242</td>\n",
       "      <td>32.984589</td>\n",
       "    </tr>\n",
       "  </tbody>\n",
       "</table>\n",
       "</div>"
      ],
      "text/plain": [
       "             ADA-USD     BNB-USD       BTC-USD  DOGE-USD      ETH-USD  \\\n",
       "Date                                                                    \n",
       "2021-07-01  1.335611  288.218414  33572.117188  0.244549  2113.605469   \n",
       "2021-07-02  1.394397  287.423096  33897.046875  0.245264  2150.040283   \n",
       "2021-07-03  1.406836  298.237122  34668.546875  0.246411  2226.114258   \n",
       "2021-07-04  1.458184  307.732086  35287.781250  0.246483  2321.724121   \n",
       "2021-07-05  1.404898  302.377991  33746.003906  0.231614  2198.582520   \n",
       "\n",
       "               LTC-USD    SOL-USD  \n",
       "Date                               \n",
       "2021-07-01  137.577530  33.404034  \n",
       "2021-07-02  136.943695  34.020481  \n",
       "2021-07-03  140.279694  34.478817  \n",
       "2021-07-04  144.905853  34.310600  \n",
       "2021-07-05  138.073242  32.984589  "
      ]
     },
     "execution_count": 302,
     "metadata": {},
     "output_type": "execute_result"
    }
   ],
   "source": [
    "## In this case, I want to implement pairs trading from two perspectives - equity and commodity market.\n",
    "## First I listed some potentially profitable tickers to be tested from different market.\n",
    "start = '2005-01-01'\n",
    "end = '2022-07-30'\n",
    "tickers_commodity = {'Gold':'GC=F',\n",
    "                     'Sliver':'SI=F',\n",
    "                     'Crude Oil':'CL=F',\n",
    "                     'Natural Gas':'NG=F',\n",
    "                     'Gasoline':'RB=F',\n",
    "                     'E-Mini S&P 500':'ES=F'}\n",
    "\n",
    "tickers_crypto = ['BTC-USD','ETH-USD','ADA-USD','SOL-USD','BNB-USD','DOGE-USD','LTC-USD']\n",
    "\n",
    "tickers_stock = ['']\n",
    "price_commodity = yf.download(list(tickers_commodity.values()), start, end)['Adj Close'].dropna()\n",
    "price_commodity.rename({v:k for k,v in tickers_commodity.items()},axis=1,inplace=True)\n",
    "\n",
    "price_crypto = yf.download(tickers_crypto, '2017-12-01', end)['Adj Close'].dropna()['2021-07':]\n",
    "price_crypto.head()"
   ]
  },
  {
   "cell_type": "code",
   "execution_count": 283,
   "id": "0d3552fb",
   "metadata": {
    "pycharm": {
     "name": "#%%\n"
    }
   },
   "outputs": [
    {
     "data": {
      "text/html": [
       "<div>\n",
       "<style scoped>\n",
       "    .dataframe tbody tr th:only-of-type {\n",
       "        vertical-align: middle;\n",
       "    }\n",
       "\n",
       "    .dataframe tbody tr th {\n",
       "        vertical-align: top;\n",
       "    }\n",
       "\n",
       "    .dataframe thead th {\n",
       "        text-align: right;\n",
       "    }\n",
       "</style>\n",
       "<table border=\"1\" class=\"dataframe\">\n",
       "  <thead>\n",
       "    <tr style=\"text-align: right;\">\n",
       "      <th></th>\n",
       "      <th>Crude Oil</th>\n",
       "      <th>E-Mini S&amp;P 500</th>\n",
       "      <th>Gold</th>\n",
       "      <th>Natural Gas</th>\n",
       "      <th>Gasoline</th>\n",
       "      <th>Sliver</th>\n",
       "    </tr>\n",
       "    <tr>\n",
       "      <th>Date</th>\n",
       "      <th></th>\n",
       "      <th></th>\n",
       "      <th></th>\n",
       "      <th></th>\n",
       "      <th></th>\n",
       "      <th></th>\n",
       "    </tr>\n",
       "  </thead>\n",
       "  <tbody>\n",
       "    <tr>\n",
       "      <th>2005-01-03</th>\n",
       "      <td>42.119999</td>\n",
       "      <td>1206.25</td>\n",
       "      <td>428.700012</td>\n",
       "      <td>5.790</td>\n",
       "      <td>1.1317</td>\n",
       "      <td>6.477</td>\n",
       "    </tr>\n",
       "    <tr>\n",
       "      <th>2005-01-04</th>\n",
       "      <td>43.910000</td>\n",
       "      <td>1191.00</td>\n",
       "      <td>428.500000</td>\n",
       "      <td>5.902</td>\n",
       "      <td>1.1721</td>\n",
       "      <td>6.427</td>\n",
       "    </tr>\n",
       "    <tr>\n",
       "      <th>2005-01-05</th>\n",
       "      <td>43.389999</td>\n",
       "      <td>1183.25</td>\n",
       "      <td>426.600006</td>\n",
       "      <td>5.833</td>\n",
       "      <td>1.1710</td>\n",
       "      <td>6.512</td>\n",
       "    </tr>\n",
       "    <tr>\n",
       "      <th>2005-01-06</th>\n",
       "      <td>45.560001</td>\n",
       "      <td>1188.25</td>\n",
       "      <td>421.000000</td>\n",
       "      <td>6.049</td>\n",
       "      <td>1.2229</td>\n",
       "      <td>6.433</td>\n",
       "    </tr>\n",
       "    <tr>\n",
       "      <th>2005-01-07</th>\n",
       "      <td>45.430000</td>\n",
       "      <td>1186.25</td>\n",
       "      <td>418.899994</td>\n",
       "      <td>6.001</td>\n",
       "      <td>1.2142</td>\n",
       "      <td>6.429</td>\n",
       "    </tr>\n",
       "  </tbody>\n",
       "</table>\n",
       "</div>"
      ],
      "text/plain": [
       "            Crude Oil  E-Mini S&P 500        Gold  Natural Gas  Gasoline  \\\n",
       "Date                                                                       \n",
       "2005-01-03  42.119999         1206.25  428.700012        5.790    1.1317   \n",
       "2005-01-04  43.910000         1191.00  428.500000        5.902    1.1721   \n",
       "2005-01-05  43.389999         1183.25  426.600006        5.833    1.1710   \n",
       "2005-01-06  45.560001         1188.25  421.000000        6.049    1.2229   \n",
       "2005-01-07  45.430000         1186.25  418.899994        6.001    1.2142   \n",
       "\n",
       "            Sliver  \n",
       "Date                \n",
       "2005-01-03   6.477  \n",
       "2005-01-04   6.427  \n",
       "2005-01-05   6.512  \n",
       "2005-01-06   6.433  \n",
       "2005-01-07   6.429  "
      ]
     },
     "execution_count": 283,
     "metadata": {},
     "output_type": "execute_result"
    }
   ],
   "source": [
    "price_commodity.head()"
   ]
  },
  {
   "cell_type": "markdown",
   "id": "97144c7f",
   "metadata": {
    "pycharm": {
     "name": "#%% md\n"
    }
   },
   "source": [
    "## Cointegration Apporach\n",
    "Cointegration: I(d) series, which means integrated series of order d\n",
    "I(1) series: Price\n",
    "I(0) series: Returns\n",
    "The prices of cointegrated assets fluctuate around a certain average level. So cointegration allows us to construct a 2-asset portfolio with stationary series to be traded. Then we are able to construct a mean-reversion strategy.\n",
    "\n",
    "### Find $\\beta_{Coint}$\n",
    "- Engle-Grange test\n",
    "    - Linear regression on the candidate pairs price and calculate its residual\n",
    "    - Test the stationary of the residual\n",
    "- Johansen test\n",
    "    - VECM\n",
    "    \n",
    "    \n",
    "We have two apporaches to find cointegration beta parameter. \n",
    "##### Engle-Grange test\n",
    "The first idea of Engle Granger test is performing a linear regression between two underlying assets and test its residual and see if the series is stationary by applying Augmented Dick-Fuller test. So if the residual is a stationary series, we can say the two prices are cointegrated. The $\\beta_{Coint}$ is obtained as the asset weight to be traded.\n",
    "\n",
    "In the stationarity test, we test for a unit root, which is based on the following hypothesis test:\n",
    "$$H_0: \\phi =1 \\rightarrow y_t \\sim I(0) | (unit root)$$\n",
    "$$H_1:\\mid\\phi\\mid <1 \\rightarrow y_t \\sim I(0) | (stationary)$$"
   ]
  },
  {
   "cell_type": "markdown",
   "id": "5a063f28",
   "metadata": {},
   "source": [
    "## Pair Candidates Selection\n",
    "Before we do cointegration, we have 2 baskets of asset - commodity and crypto. We will only look for cointegrated pairs inside the basket because ADF test is not good at identifying spurious relationships.\n",
    "\n",
    "A"
   ]
  },
  {
   "cell_type": "code",
   "execution_count": 276,
   "id": "3e2c68fa",
   "metadata": {
    "scrolled": false
   },
   "outputs": [],
   "source": [
    "def pairs_selection(prices):\n",
    "    '''\n",
    "    :param prices: dataframe-like, all asset prices to be checked to find candidate pairs\n",
    "    '''\n",
    "    res = pd.DataFrame(columns = ['p-value','aic'])\n",
    "    n = prices.shape[1]\n",
    "    for i in range(n):\n",
    "        for j in range(i+1, n):\n",
    "            pairs = prices.iloc[:,[i,j]]\n",
    "#             print(pairs)\n",
    "            pairs_name = f\"({pairs.columns[0]}, {pairs.columns[1]})\"\n",
    "            y = pairs.iloc[:,0]\n",
    "            x = pairs.iloc[:,1]\n",
    "            beta, resid, summary = OLS(y, x)\n",
    "            \n",
    "            summary, p, aic = ADF_test(resid, pairs_name, verbose=False)\n",
    "            res.loc[pairs_name] = [p, aic]\n",
    "    res.sort_values(by=['p-value'],inplace=True)\n",
    "    return res\n"
   ]
  },
  {
   "cell_type": "markdown",
   "id": "60097225",
   "metadata": {},
   "source": [
    "### Filtering of Commodity Basket\n",
    "By calculating the ADF p-values for all pairs, we find that crude oil and gasoline have the most significant cointegration relationship, which is highly reasonable because the properties of these two commodities are very close, with crude oil being the raw material for gasoline.\n",
    "\n",
    "So in the commodity basekt, we will further study this candidate pair."
   ]
  },
  {
   "cell_type": "code",
   "execution_count": 277,
   "id": "8a1341bd",
   "metadata": {},
   "outputs": [
    {
     "data": {
      "text/html": [
       "<div>\n",
       "<style scoped>\n",
       "    .dataframe tbody tr th:only-of-type {\n",
       "        vertical-align: middle;\n",
       "    }\n",
       "\n",
       "    .dataframe tbody tr th {\n",
       "        vertical-align: top;\n",
       "    }\n",
       "\n",
       "    .dataframe thead th {\n",
       "        text-align: right;\n",
       "    }\n",
       "</style>\n",
       "<table border=\"1\" class=\"dataframe\">\n",
       "  <thead>\n",
       "    <tr style=\"text-align: right;\">\n",
       "      <th></th>\n",
       "      <th>p-value</th>\n",
       "      <th>aic</th>\n",
       "    </tr>\n",
       "  </thead>\n",
       "  <tbody>\n",
       "    <tr>\n",
       "      <th>(Crude Oil, Gasoline)</th>\n",
       "      <td>0.002724</td>\n",
       "      <td>16644.465323</td>\n",
       "    </tr>\n",
       "    <tr>\n",
       "      <th>(Gasoline, Sliver)</th>\n",
       "      <td>0.026751</td>\n",
       "      <td>-13659.541370</td>\n",
       "    </tr>\n",
       "    <tr>\n",
       "      <th>(Crude Oil, Sliver)</th>\n",
       "      <td>0.038640</td>\n",
       "      <td>18124.545715</td>\n",
       "    </tr>\n",
       "    <tr>\n",
       "      <th>(Crude Oil, E-Mini S&amp;P 500)</th>\n",
       "      <td>0.042191</td>\n",
       "      <td>18471.864115</td>\n",
       "    </tr>\n",
       "    <tr>\n",
       "      <th>(Crude Oil, Natural Gas)</th>\n",
       "      <td>0.049007</td>\n",
       "      <td>18295.924374</td>\n",
       "    </tr>\n",
       "  </tbody>\n",
       "</table>\n",
       "</div>"
      ],
      "text/plain": [
       "                              p-value           aic\n",
       "(Crude Oil, Gasoline)        0.002724  16644.465323\n",
       "(Gasoline, Sliver)           0.026751 -13659.541370\n",
       "(Crude Oil, Sliver)          0.038640  18124.545715\n",
       "(Crude Oil, E-Mini S&P 500)  0.042191  18471.864115\n",
       "(Crude Oil, Natural Gas)     0.049007  18295.924374"
      ]
     },
     "execution_count": 277,
     "metadata": {},
     "output_type": "execute_result"
    }
   ],
   "source": [
    "pairs_selection(price_commodity).head()"
   ]
  },
  {
   "cell_type": "code",
   "execution_count": 313,
   "id": "7a517024",
   "metadata": {},
   "outputs": [
    {
     "data": {
      "text/plain": [
       "Text(0.5, 0, 'Date')"
      ]
     },
     "execution_count": 313,
     "metadata": {},
     "output_type": "execute_result"
    },
    {
     "data": {
      "image/png": "[encoded data removed]",
      "text/plain": [
       "<Figure size 576x432 with 1 Axes>"
      ]
     },
     "metadata": {
      "needs_background": "light"
     },
     "output_type": "display_data"
    }
   ],
   "source": [
    "y_commodity = price_commodity.loc[:,'Crude Oil']\n",
    "x_commodity = price_commodity.loc[:,'Gasoline']\n",
    "\n",
    "beta_commodity, resid_commodity, summary_commodity = OLS(y_commodity, x_commodity)\n",
    "# resid.plot(figsize=(10,8))\n",
    "fig, ax = plt.subplots(1,1,figsize=(8,6))\n",
    "ax.plot(resid_commodity)\n",
    "ax.set_title('Res(Crude Oil, Gasoline)')\n",
    "ax.set_xlabel('Date')\n"
   ]
  },
  {
   "cell_type": "markdown",
   "id": "911e3166",
   "metadata": {},
   "source": [
    "### Filtering of Crypto Basket\n",
    "The cryptocurrency market is very volatile and we can't ensure that the pairs have all time cointegration, so we are looking forward a year to find the relationship over that time.\n",
    "\n",
    "Fortunately, we found that the BNB-ETH pair was a possible integrated pair in the previous year, so we can assume that this relationship will be maintained for a short time in the following."
   ]
  },
  {
   "cell_type": "code",
   "execution_count": 314,
   "id": "1a5a1de2",
   "metadata": {},
   "outputs": [
    {
     "data": {
      "text/html": [
       "<div>\n",
       "<style scoped>\n",
       "    .dataframe tbody tr th:only-of-type {\n",
       "        vertical-align: middle;\n",
       "    }\n",
       "\n",
       "    .dataframe tbody tr th {\n",
       "        vertical-align: top;\n",
       "    }\n",
       "\n",
       "    .dataframe thead th {\n",
       "        text-align: right;\n",
       "    }\n",
       "</style>\n",
       "<table border=\"1\" class=\"dataframe\">\n",
       "  <thead>\n",
       "    <tr style=\"text-align: right;\">\n",
       "      <th></th>\n",
       "      <th>p-value</th>\n",
       "      <th>aic</th>\n",
       "    </tr>\n",
       "  </thead>\n",
       "  <tbody>\n",
       "    <tr>\n",
       "      <th>(BNB-USD, ETH-USD)</th>\n",
       "      <td>0.020690</td>\n",
       "      <td>2733.902058</td>\n",
       "    </tr>\n",
       "    <tr>\n",
       "      <th>(BNB-USD, SOL-USD)</th>\n",
       "      <td>0.033754</td>\n",
       "      <td>3039.532410</td>\n",
       "    </tr>\n",
       "    <tr>\n",
       "      <th>(ADA-USD, DOGE-USD)</th>\n",
       "      <td>0.038774</td>\n",
       "      <td>-903.598281</td>\n",
       "    </tr>\n",
       "    <tr>\n",
       "      <th>(BTC-USD, LTC-USD)</th>\n",
       "      <td>0.071388</td>\n",
       "      <td>6225.059952</td>\n",
       "    </tr>\n",
       "    <tr>\n",
       "      <th>(ETH-USD, SOL-USD)</th>\n",
       "      <td>0.083243</td>\n",
       "      <td>4520.747225</td>\n",
       "    </tr>\n",
       "  </tbody>\n",
       "</table>\n",
       "</div>"
      ],
      "text/plain": [
       "                      p-value          aic\n",
       "(BNB-USD, ETH-USD)   0.020690  2733.902058\n",
       "(BNB-USD, SOL-USD)   0.033754  3039.532410\n",
       "(ADA-USD, DOGE-USD)  0.038774  -903.598281\n",
       "(BTC-USD, LTC-USD)   0.071388  6225.059952\n",
       "(ETH-USD, SOL-USD)   0.083243  4520.747225"
      ]
     },
     "execution_count": 314,
     "metadata": {},
     "output_type": "execute_result"
    }
   ],
   "source": [
    "pairs_selection(price_crypto).head()"
   ]
  },
  {
   "cell_type": "code",
   "execution_count": 315,
   "id": "ec54c150",
   "metadata": {},
   "outputs": [
    {
     "data": {
      "text/plain": [
       "Text(0.5, 0, 'Date')"
      ]
     },
     "execution_count": 315,
     "metadata": {},
     "output_type": "execute_result"
    },
    {
     "data": {
      "image/png": "[encoded data removed]",
      "text/plain": [
       "<Figure size 576x432 with 1 Axes>"
      ]
     },
     "metadata": {
      "needs_background": "light"
     },
     "output_type": "display_data"
    }
   ],
   "source": [
    "y_crypto = price_crypto.loc[:,'BNB-USD']\n",
    "x_crypto = price_crypto.loc[:,'ETH-USD']\n",
    "\n",
    "beta_crypto, resid_crypto, summary_crypto = OLS(y_crypto, x_crypto)\n",
    "# resid.plot(figsize=(10,8))\n",
    "fig, ax = plt.subplots(1,1,figsize=(8,6))\n",
    "ax.plot(resid_crypto)\n",
    "ax.set_title('Res(BNB, ETH)')\n",
    "ax.set_xlabel('Date')"
   ]
  },
  {
   "cell_type": "markdown",
   "id": "737e3034",
   "metadata": {
    "pycharm": {
     "name": "#%% md\n"
    }
   },
   "source": [
    "### ENGLE-GRANGER STEP 1. Cointegrated Residual"
   ]
  },
  {
   "cell_type": "code",
   "execution_count": 316,
   "id": "5692c89b",
   "metadata": {
    "pycharm": {
     "name": "#%%\n"
    }
   },
   "outputs": [],
   "source": [
    "\n",
    "def OLS(y, x):\n",
    "    '''\n",
    "    parameters:\n",
    "    :param y: independent variable, dataframe or array-like\n",
    "    :param x: dependent variables, dataframe or array-like\n",
    "    :return:\n",
    "    '''\n",
    "\n",
    "\n",
    "    model = sm.OLS(y, sm.add_constant(x)).fit()\n",
    "\n",
    "    residuals = model.resid\n",
    "    residuals = pd.DataFrame({'resid':residuals},index = x.index)\n",
    "    ## OLS params\n",
    "    c, beta = model.params\n",
    "\n",
    "    ## OLS params sd\n",
    "    c_sd, beta_sd = model.bse\n",
    "\n",
    "    # OLS t-statistics\n",
    "    c_t, beta_t = model.tvalues\n",
    "    \n",
    "    \n",
    "    summary = pd.DataFrame({\"Params\":model.params,\n",
    "                       \"Error\":model.bse,\n",
    "                       'T-stats':model.tvalues,\n",
    "                       'P-values': model.pvalues})\n",
    "    \n",
    "    return beta, residuals, np.around(summary,2)\n",
    "\n",
    "\n"
   ]
  },
  {
   "cell_type": "markdown",
   "id": "094c3867",
   "metadata": {
    "pycharm": {
     "name": "#%% md\n"
    }
   },
   "source": [
    "### ADF test\n",
    "**ADF test equation**\n",
    "use ADF test for unit root with lag1:\n",
    "$$\\Delta e_t = \\varphi e_{t-1} + \\varphi_{aug1}\\Delta e_{t-1} + const + \\varphi_tt+\\epsilon_t$$\n",
    "- Improvement 1. Test equation above includes time dependence  $\\varphi_tt$ , referred to as 'trend'.\n",
    "I don't include trend in the ADF tests and cointegrating residual -- it will make me think cointegration is present when it is very weak. In fact, without $\\varphi_tt$ term, we might not even get stationarity result."
   ]
  },
  {
   "cell_type": "code",
   "execution_count": 325,
   "id": "86283b5c",
   "metadata": {
    "pycharm": {
     "name": "#%%\n"
    }
   },
   "outputs": [
    {
     "name": "stdout",
     "output_type": "stream",
     "text": [
      "---------ADF result--------:\n",
      "p-value = 0.002724 The series Crude Oil, Gasoline is likely stationary.\n"
     ]
    },
    {
     "data": {
      "text/html": [
       "<div>\n",
       "<style scoped>\n",
       "    .dataframe tbody tr th:only-of-type {\n",
       "        vertical-align: middle;\n",
       "    }\n",
       "\n",
       "    .dataframe tbody tr th {\n",
       "        vertical-align: top;\n",
       "    }\n",
       "\n",
       "    .dataframe thead th {\n",
       "        text-align: right;\n",
       "    }\n",
       "</style>\n",
       "<table border=\"1\" class=\"dataframe\">\n",
       "  <thead>\n",
       "    <tr style=\"text-align: right;\">\n",
       "      <th></th>\n",
       "      <th>Estimate ΔRes(Crude Oil, Gasoline)</th>\n",
       "      <th>SD of Estimate ΔRes(Crude Oil, Gasoline)</th>\n",
       "      <th>t-Statistic ΔRes(Crude Oil, Gasoline)</th>\n",
       "      <th>P-value ΔRes(Crude Oil, Gasoline)</th>\n",
       "    </tr>\n",
       "  </thead>\n",
       "  <tbody>\n",
       "    <tr>\n",
       "      <th>const</th>\n",
       "      <td>-0.006259</td>\n",
       "      <td>0.024405</td>\n",
       "      <td>-0.256486</td>\n",
       "      <td>0.797587</td>\n",
       "    </tr>\n",
       "    <tr>\n",
       "      <th>e_t-1</th>\n",
       "      <td>-0.018510</td>\n",
       "      <td>0.003275</td>\n",
       "      <td>-5.652607</td>\n",
       "      <td>0.000000</td>\n",
       "    </tr>\n",
       "    <tr>\n",
       "      <th>Δe_t-1</th>\n",
       "      <td>-0.214121</td>\n",
       "      <td>0.014725</td>\n",
       "      <td>-14.541758</td>\n",
       "      <td>0.000000</td>\n",
       "    </tr>\n",
       "  </tbody>\n",
       "</table>\n",
       "</div>"
      ],
      "text/plain": [
       "        Estimate ΔRes(Crude Oil, Gasoline)  \\\n",
       "const                            -0.006259   \n",
       "e_t-1                            -0.018510   \n",
       "Δe_t-1                           -0.214121   \n",
       "\n",
       "        SD of Estimate ΔRes(Crude Oil, Gasoline)  \\\n",
       "const                                   0.024405   \n",
       "e_t-1                                   0.003275   \n",
       "Δe_t-1                                  0.014725   \n",
       "\n",
       "        t-Statistic ΔRes(Crude Oil, Gasoline)  \\\n",
       "const                               -0.256486   \n",
       "e_t-1                               -5.652607   \n",
       "Δe_t-1                             -14.541758   \n",
       "\n",
       "        P-value ΔRes(Crude Oil, Gasoline)  \n",
       "const                            0.797587  \n",
       "e_t-1                            0.000000  \n",
       "Δe_t-1                           0.000000  "
      ]
     },
     "metadata": {},
     "output_type": "display_data"
    },
    {
     "name": "stdout",
     "output_type": "stream",
     "text": [
      "---------ADF result--------:\n",
      "p-value = 0.02069 The series BNB, ETH is likely stationary.\n"
     ]
    },
    {
     "data": {
      "text/html": [
       "<div>\n",
       "<style scoped>\n",
       "    .dataframe tbody tr th:only-of-type {\n",
       "        vertical-align: middle;\n",
       "    }\n",
       "\n",
       "    .dataframe tbody tr th {\n",
       "        vertical-align: top;\n",
       "    }\n",
       "\n",
       "    .dataframe thead th {\n",
       "        text-align: right;\n",
       "    }\n",
       "</style>\n",
       "<table border=\"1\" class=\"dataframe\">\n",
       "  <thead>\n",
       "    <tr style=\"text-align: right;\">\n",
       "      <th></th>\n",
       "      <th>Estimate ΔRes(BNB, ETH)</th>\n",
       "      <th>SD of Estimate ΔRes(BNB, ETH)</th>\n",
       "      <th>t-Statistic ΔRes(BNB, ETH)</th>\n",
       "      <th>P-value ΔRes(BNB, ETH)</th>\n",
       "    </tr>\n",
       "  </thead>\n",
       "  <tbody>\n",
       "    <tr>\n",
       "      <th>const</th>\n",
       "      <td>0.123159</td>\n",
       "      <td>0.470967</td>\n",
       "      <td>0.261503</td>\n",
       "      <td>0.793843</td>\n",
       "    </tr>\n",
       "    <tr>\n",
       "      <th>e_t-1</th>\n",
       "      <td>-0.059283</td>\n",
       "      <td>0.016946</td>\n",
       "      <td>-3.498347</td>\n",
       "      <td>0.000522</td>\n",
       "    </tr>\n",
       "    <tr>\n",
       "      <th>Δe_t-1</th>\n",
       "      <td>0.032226</td>\n",
       "      <td>0.050549</td>\n",
       "      <td>0.637515</td>\n",
       "      <td>0.524164</td>\n",
       "    </tr>\n",
       "  </tbody>\n",
       "</table>\n",
       "</div>"
      ],
      "text/plain": [
       "        Estimate ΔRes(BNB, ETH)  SD of Estimate ΔRes(BNB, ETH)  \\\n",
       "const                  0.123159                       0.470967   \n",
       "e_t-1                 -0.059283                       0.016946   \n",
       "Δe_t-1                 0.032226                       0.050549   \n",
       "\n",
       "        t-Statistic ΔRes(BNB, ETH)  P-value ΔRes(BNB, ETH)  \n",
       "const                     0.261503                0.793843  \n",
       "e_t-1                    -3.498347                0.000522  \n",
       "Δe_t-1                    0.637515                0.524164  "
      ]
     },
     "metadata": {},
     "output_type": "display_data"
    }
   ],
   "source": [
    "def ADF_test(resid, name, verbose=True):\n",
    "    # H_0 in adfuller is unit root exists (non-stationary)\n",
    "    # We must observe significant p-value to convince ourselves that the series is stationary\n",
    "    '''\n",
    "    :param resid: dataframe-like, the residual from OLS or any other series to be tested\n",
    "    '''\n",
    "    index = resid.index\n",
    "    resid = np.array(resid).flatten()\n",
    "    series = pd.DataFrame({'e_t':resid},index = index)\n",
    "    series['e_t-1'] = series['e_t'].shift(1)\n",
    "    series['Δe_t'] = series['e_t'].diff()\n",
    "    series['Δe_t-1'] = series['e_t'].diff().shift(1)\n",
    "    \n",
    "    series = series.dropna()\n",
    "    x = series[['e_t-1','Δe_t-1']]\n",
    "    y = series['Δe_t']\n",
    "    \n",
    "    model = sm.OLS(y, sm.add_constant(x)).fit()\n",
    "\n",
    "    summary = pd.DataFrame({f\"Estimate ΔRes({name})\":model.params,\n",
    "                           f\"SD of Estimate ΔRes({name})\":model.bse,\n",
    "                           f\"t-Statistic ΔRes({name})\":model.tvalues,\n",
    "                           f\"P-value ΔRes({name})\":model.pvalues})\n",
    "    summary = np.around(summary,6)\n",
    "#     display(summary)\n",
    "\n",
    "    adf = adfuller(series['e_t'],regression='c')\n",
    "    aic = adf[-1]\n",
    "\n",
    "    pvalue = round(adf[1],6)\n",
    "    if verbose==True:\n",
    "        print(\"---------ADF result--------:\")\n",
    "        if pvalue < 0.05:\n",
    "            print('p-value = ' + str(pvalue) + ' The series ' + name +' is likely stationary.')\n",
    "        else:\n",
    "            print('p-value = ' + str(pvalue) + ' The series ' + name +' is likely non-stationary.')\n",
    "    \n",
    "    return summary, pvalue, aic\n",
    "\n",
    "summary, p, aic = ADF_test(resid_commodity, 'Crude Oil, Gasoline')\n",
    "display(summary)\n",
    "summary, p, aic = ADF_test(resid_crypto, 'BNB, ETH') \n",
    "display(summary)"
   ]
  },
  {
   "cell_type": "markdown",
   "id": "12931716",
   "metadata": {},
   "source": [
    "Both pairs passed the ADF test."
   ]
  },
  {
   "cell_type": "markdown",
   "id": "c3d5be2c",
   "metadata": {
    "pycharm": {
     "name": "#%%\n"
    }
   },
   "source": [
    "### ENGLE-GRANGER STEP 2. Error correction equations\n",
    "In general form, \n",
    "$$\\Delta P_t^A = \\varphi \\Delta P_t^B - (1-\\alpha) \\tilde e^A_{t-1} + \\epsilon_t$$\n",
    "\n",
    "In the other way around:\n",
    "$$\\Delta P_t^B = \\varphi \\Delta P_t^A - (1-\\alpha) \\tilde e^A_{t-1} + \\epsilon_t$$"
   ]
  },
  {
   "cell_type": "code",
   "execution_count": 330,
   "id": "ab800543",
   "metadata": {},
   "outputs": [
    {
     "data": {
      "text/html": [
       "<div>\n",
       "<style scoped>\n",
       "    .dataframe tbody tr th:only-of-type {\n",
       "        vertical-align: middle;\n",
       "    }\n",
       "\n",
       "    .dataframe tbody tr th {\n",
       "        vertical-align: top;\n",
       "    }\n",
       "\n",
       "    .dataframe thead th {\n",
       "        text-align: right;\n",
       "    }\n",
       "</style>\n",
       "<table border=\"1\" class=\"dataframe\">\n",
       "  <thead>\n",
       "    <tr style=\"text-align: right;\">\n",
       "      <th></th>\n",
       "      <th>Estimate ΔGasoline</th>\n",
       "      <th>SD of Estimate ΔGasoline</th>\n",
       "      <th>t-Statistic ΔGasoline</th>\n",
       "      <th>P-value ΔGasoline</th>\n",
       "    </tr>\n",
       "  </thead>\n",
       "  <tbody>\n",
       "    <tr>\n",
       "      <th>ΔPB_t</th>\n",
       "      <td>23.608013</td>\n",
       "      <td>0.465455</td>\n",
       "      <td>50.720279</td>\n",
       "      <td>0.0</td>\n",
       "    </tr>\n",
       "    <tr>\n",
       "      <th>e_t-1</th>\n",
       "      <td>-0.022663</td>\n",
       "      <td>0.003172</td>\n",
       "      <td>-7.144839</td>\n",
       "      <td>0.0</td>\n",
       "    </tr>\n",
       "  </tbody>\n",
       "</table>\n",
       "</div>"
      ],
      "text/plain": [
       "       Estimate ΔGasoline  SD of Estimate ΔGasoline  t-Statistic ΔGasoline  \\\n",
       "ΔPB_t           23.608013                  0.465455              50.720279   \n",
       "e_t-1           -0.022663                  0.003172              -7.144839   \n",
       "\n",
       "       P-value ΔGasoline  \n",
       "ΔPB_t                0.0  \n",
       "e_t-1                0.0  "
      ]
     },
     "metadata": {},
     "output_type": "display_data"
    },
    {
     "data": {
      "text/html": [
       "<div>\n",
       "<style scoped>\n",
       "    .dataframe tbody tr th:only-of-type {\n",
       "        vertical-align: middle;\n",
       "    }\n",
       "\n",
       "    .dataframe tbody tr th {\n",
       "        vertical-align: top;\n",
       "    }\n",
       "\n",
       "    .dataframe thead th {\n",
       "        text-align: right;\n",
       "    }\n",
       "</style>\n",
       "<table border=\"1\" class=\"dataframe\">\n",
       "  <thead>\n",
       "    <tr style=\"text-align: right;\">\n",
       "      <th></th>\n",
       "      <th>Estimate ΔETH</th>\n",
       "      <th>SD of Estimate ΔETH</th>\n",
       "      <th>t-Statistic ΔETH</th>\n",
       "      <th>P-value ΔETH</th>\n",
       "    </tr>\n",
       "  </thead>\n",
       "  <tbody>\n",
       "    <tr>\n",
       "      <th>ΔPB_t</th>\n",
       "      <td>0.108314</td>\n",
       "      <td>0.003769</td>\n",
       "      <td>28.735137</td>\n",
       "      <td>0.000000</td>\n",
       "    </tr>\n",
       "    <tr>\n",
       "      <th>e_t-1</th>\n",
       "      <td>-0.056863</td>\n",
       "      <td>0.016728</td>\n",
       "      <td>-3.399282</td>\n",
       "      <td>0.000745</td>\n",
       "    </tr>\n",
       "  </tbody>\n",
       "</table>\n",
       "</div>"
      ],
      "text/plain": [
       "       Estimate ΔETH  SD of Estimate ΔETH  t-Statistic ΔETH  P-value ΔETH\n",
       "ΔPB_t       0.108314             0.003769         28.735137      0.000000\n",
       "e_t-1      -0.056863             0.016728         -3.399282      0.000745"
      ]
     },
     "metadata": {},
     "output_type": "display_data"
    }
   ],
   "source": [
    "def EG_err_corr1(S1, S2, e, name):\n",
    "    '''\n",
    "    :param S1: dataframe-like, the price of asset A\n",
    "    :param S2: dataframe-like, the price of asset B\n",
    "    :param e: dataframe-like, the residual between A and B\n",
    "    '''\n",
    "    dS1 = np.array(S1.diff()).flatten()\n",
    "    dS2 = np.array(S2.diff()).flatten()\n",
    "    \n",
    "    e = np.array(e.shift(1)).flatten()\n",
    "    df_to_fit = pd.DataFrame({'ΔPA_t':dS1,\n",
    "                             'ΔPB_t':dS2,\n",
    "                             'e_t-1':e}).dropna()\n",
    "    \n",
    "    x = df_to_fit[['ΔPB_t','e_t-1']]\n",
    "    y = df_to_fit['ΔPA_t']\n",
    "    \n",
    "    model = sm.OLS(y, x).fit()\n",
    "\n",
    "    summary = pd.DataFrame({f\"Estimate Δ{name}\":model.params,\n",
    "                           f\"SD of Estimate Δ{name}\":model.bse,\n",
    "                           f\"t-Statistic Δ{name}\":model.tvalues,\n",
    "                           f\"P-value Δ{name}\":model.pvalues})\n",
    "    summary = np.round(summary,6)\n",
    "    return summary, model.pvalues\n",
    "summary, p = EG_err_corr1(y_commodity, x_commodity, resid_commodity, 'Gasoline')\n",
    "display(summary)\n",
    "summary, p = EG_err_corr1(y_crypto, x_crypto, resid_crypto, 'ETH')\n",
    "display(summary)"
   ]
  },
  {
   "cell_type": "markdown",
   "id": "44852b3d",
   "metadata": {},
   "source": [
    "We now perform **the 2nd step of EG to estimate the Equilibrium Correction Model**, Here we check the significance of -(1-𝛼) term, which ensure the correction the long run equilibrium. In error correction equation the p-value is significantly showing 0."
   ]
  },
  {
   "cell_type": "code",
   "execution_count": 331,
   "id": "55d48e37",
   "metadata": {},
   "outputs": [
    {
     "data": {
      "text/html": [
       "<div>\n",
       "<style scoped>\n",
       "    .dataframe tbody tr th:only-of-type {\n",
       "        vertical-align: middle;\n",
       "    }\n",
       "\n",
       "    .dataframe tbody tr th {\n",
       "        vertical-align: top;\n",
       "    }\n",
       "\n",
       "    .dataframe thead th {\n",
       "        text-align: right;\n",
       "    }\n",
       "</style>\n",
       "<table border=\"1\" class=\"dataframe\">\n",
       "  <thead>\n",
       "    <tr style=\"text-align: right;\">\n",
       "      <th></th>\n",
       "      <th>Estimate ΔCrude Oil</th>\n",
       "      <th>SD of Estimate ΔCrude Oil</th>\n",
       "      <th>t-Statistic ΔCrude Oil</th>\n",
       "      <th>P-value ΔCrude Oil</th>\n",
       "    </tr>\n",
       "  </thead>\n",
       "  <tbody>\n",
       "    <tr>\n",
       "      <th>ΔPA_t</th>\n",
       "      <td>0.015604</td>\n",
       "      <td>0.000308</td>\n",
       "      <td>50.720279</td>\n",
       "      <td>0.0</td>\n",
       "    </tr>\n",
       "    <tr>\n",
       "      <th>e_t-1</th>\n",
       "      <td>0.000438</td>\n",
       "      <td>0.000082</td>\n",
       "      <td>5.359113</td>\n",
       "      <td>0.0</td>\n",
       "    </tr>\n",
       "  </tbody>\n",
       "</table>\n",
       "</div>"
      ],
      "text/plain": [
       "       Estimate ΔCrude Oil  SD of Estimate ΔCrude Oil  t-Statistic ΔCrude Oil  \\\n",
       "ΔPA_t             0.015604                   0.000308               50.720279   \n",
       "e_t-1             0.000438                   0.000082                5.359113   \n",
       "\n",
       "       P-value ΔCrude Oil  \n",
       "ΔPA_t                 0.0  \n",
       "e_t-1                 0.0  "
      ]
     },
     "metadata": {},
     "output_type": "display_data"
    },
    {
     "data": {
      "text/html": [
       "<div>\n",
       "<style scoped>\n",
       "    .dataframe tbody tr th:only-of-type {\n",
       "        vertical-align: middle;\n",
       "    }\n",
       "\n",
       "    .dataframe tbody tr th {\n",
       "        vertical-align: top;\n",
       "    }\n",
       "\n",
       "    .dataframe thead th {\n",
       "        text-align: right;\n",
       "    }\n",
       "</style>\n",
       "<table border=\"1\" class=\"dataframe\">\n",
       "  <thead>\n",
       "    <tr style=\"text-align: right;\">\n",
       "      <th></th>\n",
       "      <th>Estimate ΔBNB</th>\n",
       "      <th>SD of Estimate ΔBNB</th>\n",
       "      <th>t-Statistic ΔBNB</th>\n",
       "      <th>P-value ΔBNB</th>\n",
       "    </tr>\n",
       "  </thead>\n",
       "  <tbody>\n",
       "    <tr>\n",
       "      <th>ΔPA_t</th>\n",
       "      <td>6.260336</td>\n",
       "      <td>0.217863</td>\n",
       "      <td>28.735137</td>\n",
       "      <td>0.000000</td>\n",
       "    </tr>\n",
       "    <tr>\n",
       "      <th>e_t-1</th>\n",
       "      <td>0.235383</td>\n",
       "      <td>0.128485</td>\n",
       "      <td>1.831987</td>\n",
       "      <td>0.067712</td>\n",
       "    </tr>\n",
       "  </tbody>\n",
       "</table>\n",
       "</div>"
      ],
      "text/plain": [
       "       Estimate ΔBNB  SD of Estimate ΔBNB  t-Statistic ΔBNB  P-value ΔBNB\n",
       "ΔPA_t       6.260336             0.217863         28.735137      0.000000\n",
       "e_t-1       0.235383             0.128485          1.831987      0.067712"
      ]
     },
     "metadata": {},
     "output_type": "display_data"
    }
   ],
   "source": [
    "def EG_err_corr2(S1, S2, e, name):\n",
    "    '''\n",
    "    :param S1: dataframe-like, the price of asset A\n",
    "    :param S2: dataframe-like, the price of asset B\n",
    "    :param e: dataframe-like, the residual between A and B\n",
    "    '''\n",
    "    dS1 = np.array(S1.diff()).flatten()\n",
    "    dS2 = np.array(S2.diff()).flatten()\n",
    "    \n",
    "    e = np.array(e.shift(1)).flatten()\n",
    "    df_to_fit = pd.DataFrame({'ΔPA_t':dS1,\n",
    "                             'ΔPB_t':dS2,\n",
    "                             'e_t-1':e}).dropna()\n",
    "    \n",
    "    x = df_to_fit[['ΔPA_t','e_t-1']]\n",
    "    y = df_to_fit['ΔPB_t']\n",
    "    \n",
    "    model = sm.OLS(y, x).fit()\n",
    "\n",
    "    summary = pd.DataFrame({f\"Estimate Δ{name}\":model.params,\n",
    "                           f\"SD of Estimate Δ{name}\":model.bse,\n",
    "                           f\"t-Statistic Δ{name}\":model.tvalues,\n",
    "                           f\"P-value Δ{name}\":model.pvalues})\n",
    "    summary = np.round(summary,6)\n",
    "    \n",
    "    return summary, model.pvalues\n",
    "summary, p = EG_err_corr2(y_commodity, x_commodity, resid_commodity, 'Crude Oil')\n",
    "display(summary)\n",
    "summary, p = EG_err_corr2(y_crypto, x_crypto, resid_crypto, 'BNB')\n",
    "display(summary)"
   ]
  },
  {
   "cell_type": "markdown",
   "id": "10a44e1b",
   "metadata": {},
   "source": [
    "Now, we estimate the EG correction equation \"other way around\", both shows the significance.\n",
    "From the absolute value of t-stas, the first way is the more important model. So the pair is considered to be cointegrated."
   ]
  },
  {
   "cell_type": "markdown",
   "id": "26a39497",
   "metadata": {},
   "source": [
    "\n",
    "## Ornstein-Uhlenbeck process\n",
    "\n",
    "In order to find the optimal $\\beta_{Coint}$ to build the best mean reversion portfolio, we can fit the OU process.\n",
    " \n",
    "The Ornstein-Uhlenbeck process is described by the following SDE:\n",
    "\n",
    "$$ dX_t = \\kappa (\\theta - X_t) dt + \\sigma dW_t $$\n",
    "\n",
    "The parameters are:\n",
    "- $\\theta \\in \\mathbb{R}$: The long-term average, around which all trajectories of $X_t$ oscillate, is the mean level.\n",
    "\n",
    "- $\\kappa > 0$: the speed of mean reversion, represents the velocity at which such trajectories will regroup around mean level\n",
    "\n",
    "- $\\sigma > 0$: instantaneous volatility, measures the amplitude of randomness entering the system.\n",
    "\n",
    "\n",
    "At this point we can solve the SDE:\n",
    "\n",
    "$$ X_t = \\theta + (X_0 - \\theta)e^{-\\kappa t} + \\int_0^t \\sigma\\, e^{\\kappa (s-t)} dW_s .$$\n",
    "\n",
    "\n",
    "### Moments:\n",
    "\n",
    "The **mean** of $X_t$ is:\n",
    "\n",
    "$$ \\begin{aligned}\n",
    "\\mathbb{E}[X_t] &= \\mathbb{E}\\biggl[ \\theta + (X_0 - \\theta)e^{-\\kappa t} + \\int_0^t \\sigma\\, e^{\\kappa (s-t)} dW_s \\biggr] \\\\\n",
    "                &= \\theta + (X_0 - \\theta)e^{-\\kappa t}    \n",
    "\\end{aligned}$$\n",
    "\n",
    "The **covariance** is:\n",
    "\n",
    "$$ \\begin{aligned}\n",
    "\\text{Cov}[X_s, X_t] &= \\frac{\\sigma^2}{2\\kappa} \\biggl( e^{-\\kappa |t-s|} - e^{-\\kappa (s+t)}\\, \\biggr),  \n",
    "\\end{aligned}$$\n",
    "\n",
    "The **variance** is: \n",
    "\n",
    "$$ \\text{Var}[X_t] = \\text{Cov}[X_t, X_t] = \\frac{\\sigma^2}{2\\kappa} \\biggl( 1- e^{-2 \\kappa t} \\biggr).$$\n",
    "\n",
    "So, we can obtain the **mean**: $\\theta$ and the **variance**: $\\frac{\\sigma^2}{2\\kappa}$\n",
    "\n",
    "\n",
    "\n",
    "\n",
    "We can discretize the SDE using the Euler-Maruyama numerical method:\n",
    "\n",
    "Let us consider the solution of the OU SDE obtained above. We can compute $X_{n+1}$ and consider the initial value at time $n$.\n",
    "\n",
    "$$ X_{n+1} = \\theta + (X_n - \\theta)e^{-\\kappa \\Delta t} + \\sqrt{\\frac{\\sigma^2}{2\\kappa} \\bigl( 1- e^{-2 \\kappa \\Delta t} \\bigr)} \\; \\epsilon_n $$ \n",
    "\n",
    "with $\\epsilon_n \\sim \\mathcal{N}(0,1)$.\n",
    "\n",
    "\n",
    "\n",
    "## Estimation of parameters\n",
    "\n",
    "We can compute $X_{t+\\Delta t}$ and consider the initial value at time $t$.\n",
    "\n",
    "$$ \\begin{aligned}\n",
    "X_{t+\\Delta t} &= \\theta + (X_t - \\theta)e^{-\\kappa \\Delta t} + \\int_t^{t+\\Delta t} \\sigma\\, e^{\\kappa (s-t)} dW_s \\\\\n",
    "               &= \\theta \\bigl( 1-e^{-\\kappa \\Delta t} \\bigr) + e^{-\\kappa \\Delta t} X_t + \\int_t^{t+\\Delta t} \\sigma\\, e^{\\kappa (s-t)} dW_s \\\\\n",
    "               &= \\alpha + \\beta X_t + \\epsilon_t\n",
    "\\end{aligned} $$\n",
    "\n",
    "where $\\alpha = \\theta \\bigl( 1-e^{-\\kappa \\Delta t} \\bigr)$, $\\beta = e^{-\\kappa \\Delta t}$ and with $\\epsilon_t \\sim \\mathcal{N}\\biggl( 0, \\frac{\\sigma^2}{2\\kappa} \\bigl( 1- e^{-2 \\kappa \\Delta t} \\bigr)\\biggr)$.\n",
    "\n",
    "So, this confirms the saying from \"The Ornstein–Uhlenbeck process can also be considered as the continuous-time analogue of the discrete-time AR(1) process.\" and we are able to guarantee the AR(1) process to estimate the params on the spread. \n",
    "\n",
    "let us use the usual OLS method to estimate $\\alpha$, $\\beta$ and $\\sigma$.\n",
    "Then, we can obtain the parameters from the formulas:\n",
    "\n",
    "$$ \\kappa = - \\frac{\\log \\beta}{\\Delta t}, \\quad \\theta = \\frac{\\alpha}{1-\\beta}, \\quad \n",
    "\\sigma = \\text{Std}[\\epsilon_t] \\sqrt{ \\frac{2\\kappa}{1-\\beta^2} }$$\n",
    "\n",
    "we can obtain almost consistent parameters to those params obtained by MLE.\n",
    "\n",
    "Halflife:\n",
    "$$Halflife(days) = \\frac{ln(2)}{\\theta*dt}$$"
   ]
  },
  {
   "cell_type": "code",
   "execution_count": 343,
   "id": "d8be05ff",
   "metadata": {},
   "outputs": [
    {
     "data": {
      "text/html": [
       "<div>\n",
       "<style scoped>\n",
       "    .dataframe tbody tr th:only-of-type {\n",
       "        vertical-align: middle;\n",
       "    }\n",
       "\n",
       "    .dataframe tbody tr th {\n",
       "        vertical-align: top;\n",
       "    }\n",
       "\n",
       "    .dataframe thead th {\n",
       "        text-align: right;\n",
       "    }\n",
       "</style>\n",
       "<table border=\"1\" class=\"dataframe\">\n",
       "  <thead>\n",
       "    <tr style=\"text-align: right;\">\n",
       "      <th></th>\n",
       "      <th>resid</th>\n",
       "    </tr>\n",
       "    <tr>\n",
       "      <th>Date</th>\n",
       "      <th></th>\n",
       "    </tr>\n",
       "  </thead>\n",
       "  <tbody>\n",
       "    <tr>\n",
       "      <th>2021-07-01</th>\n",
       "      <td>-28.171550</td>\n",
       "    </tr>\n",
       "    <tr>\n",
       "      <th>2021-07-02</th>\n",
       "      <td>-32.908046</td>\n",
       "    </tr>\n",
       "    <tr>\n",
       "      <th>2021-07-03</th>\n",
       "      <td>-30.322992</td>\n",
       "    </tr>\n",
       "    <tr>\n",
       "      <th>2021-07-04</th>\n",
       "      <td>-31.170210</td>\n",
       "    </tr>\n",
       "    <tr>\n",
       "      <th>2021-07-05</th>\n",
       "      <td>-23.203997</td>\n",
       "    </tr>\n",
       "    <tr>\n",
       "      <th>...</th>\n",
       "      <td>...</td>\n",
       "    </tr>\n",
       "    <tr>\n",
       "      <th>2022-07-26</th>\n",
       "      <td>5.237318</td>\n",
       "    </tr>\n",
       "    <tr>\n",
       "      <th>2022-07-27</th>\n",
       "      <td>6.752130</td>\n",
       "    </tr>\n",
       "    <tr>\n",
       "      <th>2022-07-28</th>\n",
       "      <td>2.889021</td>\n",
       "    </tr>\n",
       "    <tr>\n",
       "      <th>2022-07-29</th>\n",
       "      <td>19.338719</td>\n",
       "    </tr>\n",
       "    <tr>\n",
       "      <th>2022-07-30</th>\n",
       "      <td>16.322128</td>\n",
       "    </tr>\n",
       "  </tbody>\n",
       "</table>\n",
       "<p>395 rows × 1 columns</p>\n",
       "</div>"
      ],
      "text/plain": [
       "                resid\n",
       "Date                 \n",
       "2021-07-01 -28.171550\n",
       "2021-07-02 -32.908046\n",
       "2021-07-03 -30.322992\n",
       "2021-07-04 -31.170210\n",
       "2021-07-05 -23.203997\n",
       "...               ...\n",
       "2022-07-26   5.237318\n",
       "2022-07-27   6.752130\n",
       "2022-07-28   2.889021\n",
       "2022-07-29  19.338719\n",
       "2022-07-30  16.322128\n",
       "\n",
       "[395 rows x 1 columns]"
      ]
     },
     "execution_count": 343,
     "metadata": {},
     "output_type": "execute_result"
    }
   ],
   "source": [
    "resid"
   ]
  },
  {
   "cell_type": "code",
   "execution_count": null,
   "outputs": [],
   "source": [
    "class OU_process:\n",
    "    def __init__(self, freq = 'D'):\n",
    "        if freq =='D':\n",
    "            self.dt = 1/252\n",
    "        elif freq=='H':\n",
    "            self.dt = 1/252/60\n",
    "        elif freq==\"M\":\n",
    "            self.dt = 1/252/60/60\n",
    "        \n",
    "        \n",
    "    \n",
    "    def fit(self,resid, verbose = True):\n",
    "        X = np.array(resid[:-1]).flatten()\n",
    "        Y = np.array(resid[1:]).flatten()\n",
    "\n",
    "        model = sm.OLS(Y, sm.add_constant(X)).fit()\n",
    "        alpha, beta = model.params\n",
    "        kappa = - np.log(beta)/self.dt\n",
    "        theta = alpha/(1-beta)\n",
    "        res = Y - beta * X - alpha                   # residuals\n",
    "        std_resid = np.std(res, ddof=2)\n",
    "        sigma = std_resid * np.sqrt(2*kappa/(1-beta**2))\n",
    "        sigma_eq = std_resid*np.sqrt(1/(1-beta**2))\n",
    "        halflife = np.log(2)/kappa/self.dt\n",
    "        if verbose:\n",
    "            print(\"OU process params:\")\n",
    "            print(f\"theta = {theta:.4f}\")\n",
    "            print(f\"kappa = {kappa:.4f}\")\n",
    "            print(f\"sigma = {sigma:.4f}\")\n",
    "            print(f\"sigma_eq = {sigma_eq:.4f}\")\n",
    "            print(f\"halflife = {halflife:.4f}\")\n",
    "        self.params = {'theta':theta,'kappa':kappa, 'sigma':sigma,'sigma_eq':sigma_eq,'halflife':halflife}\n",
    "        return self\n",
    "\n"
   ],
   "metadata": {
    "collapsed": false,
    "pycharm": {
     "name": "#%%\n"
    }
   }
  },
  {
   "cell_type": "markdown",
   "source": [
    "### Commodity basket OU process fitting\n"
   ],
   "metadata": {
    "collapsed": false,
    "pycharm": {
     "name": "#%% md\n"
    }
   }
  },
  {
   "cell_type": "code",
   "execution_count": null,
   "outputs": [],
   "source": [
    "def OU_process_pairs_selection(prices, kappa_thres = 5):\n",
    "    res = pd.DataFrame(columns = ['theta','kappa', 'sigma','sigma_eq','halflife'])\n",
    "    resid_df = pd.DataFrame(index = prices.index)\n",
    "    n = prices.shape[1]\n",
    "    for i in range(n):\n",
    "        for j in range(i+1, n):\n",
    "            pairs = prices.iloc[:,[i,j]]\n",
    "            pairs_name = f\"({pairs.columns[0]}, {pairs.columns[1]})\"\n",
    "            y = pairs.iloc[:,0]\n",
    "            x = pairs.iloc[:,1]\n",
    "            beta, resid, summary = OLS(y, x)\n",
    "            \n",
    "            params = OU_process().fit(resid,verbose=False).params\n",
    "            if params['kappa']>kappa_thres:\n",
    "                res.loc[pairs_name] = list(params.values())\n",
    "                resid_df[pairs_name] = resid\n",
    "    res.sort_values(by=['kappa'],ascending=False,inplace=True)\n",
    "    return res, resid_df\n"
   ],
   "metadata": {
    "collapsed": false,
    "pycharm": {
     "name": "#%%\n"
    }
   }
  },
  {
   "cell_type": "code",
   "execution_count": null,
   "outputs": [],
   "source": [
    "OU_params_commodity, resid_df = OU_process_pairs_selection(price_commodity)\n",
    "summary"
   ],
   "metadata": {
    "collapsed": false,
    "pycharm": {
     "name": "#%%\n"
    }
   }
  },
  {
   "cell_type": "code",
   "execution_count": null,
   "outputs": [],
   "source": [
    "OU_params_crypto, resid_df = OU_process_pairs_selection(price_crypto, kappa_thres=8)\n",
    "summary"
   ],
   "metadata": {
    "collapsed": false,
    "pycharm": {
     "name": "#%%\n"
    }
   }
  },
  {
   "cell_type": "markdown",
   "source": [
    "OU process pairs selection\n",
    "\n",
    "解释一下继续选择那两个pair是合理的"
   ],
   "metadata": {
    "collapsed": false,
    "pycharm": {
     "name": "#%% md\n"
    }
   }
  },
  {
   "cell_type": "markdown",
   "source": [
    "## Time series split into train and test set\n",
    "In this case, we will apply some machine learning-inspired backtesting, such as spliting data into train/test subsets. We will train the best parameters on the training data set and regard the test set as real-time trading. So it is easier to deploy time series cross validation in the following steps.\n",
    "\n",
    "Considering the halflife of our model, we need to have enough long time period in the test dataset. So we will ensure the cointegration window will contain at least one year and the backtesting window should be more than half year to maintain at least 1 trade during the subsets."
   ],
   "metadata": {
    "collapsed": false,
    "pycharm": {
     "name": "#%% md\n"
    }
   }
  },
  {
   "cell_type": "code",
   "execution_count": null,
   "outputs": [],
   "source": [
    "pair_commodity = price_commodity[['Crude Oil','Gasoline']]\n",
    "pair_crypto = price_crypto[['BNB-USD','ETH-USD']]\n",
    "prices_train_commodity, prices_test_commodity= train_test_split(pair_commodity, test_size=0.2,shuffle=False)\n",
    "prices_train_crypto, prices_test_crypto = train_test_split(pair_crypto, test_size=0.2,shuffle=False)"
   ],
   "metadata": {
    "collapsed": false,
    "pycharm": {
     "name": "#%%\n"
    }
   }
  },
  {
   "cell_type": "markdown",
   "source": [
    "# Signal Generation\n",
    "\n",
    "The pairs candidates have been selected and their cointegration tests run too. The next process will run into backtesting phase. Before that, we should generate trading signal series from the prices. First, we need to find when a position should be opened and liquidated. Now that we have $\\theta$ - the mean reverion average level - and $\\sigma_{eq}$ from OU process, we are able to standardize the residuals and set the threshold:\n",
    "\n",
    "Let's keep our trading rule as simple as possible, set the Z to 1.\n",
    "- Entry on $\\mu_e\\pm Z\\sigma_{eq}$ \n",
    "    - if > $Z\\sigma$: Go short Y and long X at a ratio of H of X for every dollor of Y\n",
    "- Exit on $\\mu_e$"
   ],
   "metadata": {
    "collapsed": false,
    "pycharm": {
     "name": "#%% md\n"
    }
   }
  },
  {
   "cell_type": "markdown",
   "source": [
    "### Commodity Signal"
   ],
   "metadata": {
    "collapsed": false,
    "pycharm": {
     "name": "#%% md\n"
    }
   }
  },
  {
   "cell_type": "code",
   "execution_count": null,
   "outputs": [],
   "source": [
    "mu_commodity = OU_params_commodity.loc['(Crude Oil, Gasoline)']['theta']\n",
    "sig_commodity = OU_params_commodity.loc['(Crude Oil, Gasoline)']['sigma_eq']\n",
    "hl_commodity = OU_params_commodity.loc['(Crude Oil, Gasoline)']['halflife']\n",
    "\n",
    "fig,ax = plt.subplots(1,1,figsize=(10,5))\n",
    "ax.plot(resid_commodity)\n",
    "ax.axhline(mu_commodity,color = 'orange',label = \"mu\")\n",
    "ax.axhline(mu_commodity+sig_commodity,color = 'red',linestyle ='--',label = \"mu+sigma\")\n",
    "ax.axhline(mu_commodity-sig_commodity,color = 'green',linestyle ='--',label = \"mu-sigma\")\n",
    "ax.axvline(prices_train_commodity.index[-1],color = 'black',linestyle ='--',label = \"Time series split\")\n",
    "ax.set_title(\"(Crude Oil, Gasoline) Trading Signal\")\n",
    "ax.legend(loc='lower left')"
   ],
   "metadata": {
    "collapsed": false,
    "pycharm": {
     "name": "#%%\n"
    }
   }
  },
  {
   "cell_type": "markdown",
   "source": [
    "### Crypto Signal"
   ],
   "metadata": {
    "collapsed": false,
    "pycharm": {
     "name": "#%% md\n"
    }
   }
  },
  {
   "cell_type": "code",
   "execution_count": null,
   "outputs": [],
   "source": [
    "mu_crypto = OU_params_crypto.loc['(BNB-USD, ETH-USD)']['theta']\n",
    "sig_crypto = OU_params_crypto.loc['(BNB-USD, ETH-USD)']['sigma_eq']\n",
    "hl_crypto = OU_params_crypto.loc['(BNB-USD, ETH-USD)']['halflife']\n",
    "\n",
    "fig,ax = plt.subplots(1,1,figsize=(10,5))\n",
    "ax.plot(resid_crypto)\n",
    "ax.axhline(mu_crypto,color = 'orange',label = \"mu\")\n",
    "ax.axhline(mu_crypto+sig_crypto,color = 'red',linestyle ='--',label = \"mu+sigma\")\n",
    "ax.axhline(mu_crypto-sig_crypto,color = 'green',linestyle ='--',label = \"mu-sigma\")\n",
    "ax.axvline(prices_train_crypto.index[-1],color = 'black',linestyle ='--',label = \"Time series split\")\n",
    "ax.set_title(\"(BNB-USD, ETH-USD) Trading Signal\")\n",
    "ax.legend()"
   ],
   "metadata": {
    "collapsed": false,
    "pycharm": {
     "name": "#%%\n"
    }
   }
  },
  {
   "cell_type": "code",
   "execution_count": null,
   "outputs": [],
   "source": [
    "def pairs_trading_backtesting(pair_prices, mu, sigma, Z):\n",
    "    '''\n",
    "    pair_prices: dataframe, first column is Y, second column will be X\n",
    "    mu: float, the average mean reversion level\n",
    "    sigma: float, the volatility of the residual series\n",
    "    Z: float, the multiple to adjust trading threshold\n",
    "    '''\n",
    "    "
   ],
   "metadata": {
    "collapsed": false,
    "pycharm": {
     "name": "#%%\n"
    }
   }
  },
  {
   "cell_type": "code",
   "execution_count": null,
   "outputs": [],
   "source": [
    " \n",
    "def place_order(contract, action, quantity):\n",
    "    '''\n",
    "    place order for pairs trading\n",
    "    @params contract: 'X' or 'Y', trade asset X or Y\n",
    "    @params action: int, 1 or -1, long or short the asset\n",
    "    @params quantity: the quantitiy of placing orders\n",
    "    '''\n",
    "    if contract=='Y':\n",
    "        Y_shares += action * quantity\n",
    "        \n",
    "        ## bid ask price correction\n",
    "        if action==1:\n",
    "            ## buy asset at ask price\n",
    "            orderValue = action * quantity * Y_price_t*(1+Bid_Ask_spread_pct)\n",
    "        elif action==-1:\n",
    "            ## buy asset at ask price\n",
    "            orderValue = action * quantity * Y_price_t*(1-Bid_Ask_spread_pct)\n",
    "        \n",
    "        cost = abs(orderValue*Commission_cost_pct)\n",
    "        \n",
    "        Cash -= (orderValue + cost)\n",
    "        Y_assetValue += orderValue\n",
    "        print(f\"order placed! we ordered {quantity} numbers of {Y.name} at price {Y_price_t}.\")\n",
    "        \n",
    "    if contract=='X':\n",
    "        X_shares += action * quantity\n",
    "        \n",
    "        ## bid ask price correction\n",
    "        if action==1:\n",
    "            ## buy asset at ask price\n",
    "            orderValue = action * quantity * X_price_t*(1+Bid_Ask_spread_pct)\n",
    "        elif action==-1:\n",
    "            ## buy asset at ask price\n",
    "            orderValue = action * quantity * X_price_t*(1-Bid_Ask_spread_pct)\n",
    "        \n",
    "        cost = abs(orderValue*Commission_cost_pct)\n",
    "        \n",
    "        Cash -= (orderValue + cost)\n",
    "        X_assetValue += orderValue\n",
    "        print(f\"order placed! we ordered {quantity} numbers of {X.name} at price {X_price_t}.\")\n",
    "\n",
    "        "
   ],
   "metadata": {
    "collapsed": false,
    "pycharm": {
     "name": "#%%\n"
    }
   }
  },
  {
   "cell_type": "code",
   "execution_count": null,
   "outputs": [],
   "source": [
    "\n",
    "\n",
    "\n",
    "\n",
    "initial = 10000\n",
    "Z=1\n",
    "## Set the leverage for the percentage of money in each transaction. \n",
    "## If bet_size>1, we borrow money and have a leverage.\n",
    "## If bet_size<1, we partially invest and hold a percentage of cash.\n",
    "bet_size = 0.8  \n",
    "Bid_Ask_spread_pct = 0.01\n",
    "Commission_cost_pct = 0.01\n",
    "pair_prices = prices_train_commodity.copy()\n",
    "Y = pair_prices.iloc[:,0]\n",
    "X = pair_prices.iloc[:,1]\n",
    "\n",
    "\n",
    "beta, residuals, _ = OLS(Y,X)\n",
    "OU_params = OU_process().fit(residuals,verbose=False).params\n",
    "mu = OU_params['theta']\n",
    "sigma = OU_params['sigma_eq']\n",
    "\n",
    "pair_prices['beta_coint'] = beta\n",
    "pair_prices['resid'] = residuals\n",
    "\n",
    "\n",
    "pair_prices['normalized resid'] = (residuals-mu)/sigma\n",
    "\n",
    "open_signal = 0\n",
    "close_signal = 0\n",
    "hold_position = 0\n",
    "pair_prices\n",
    "\n",
    "# Cash\n",
    "Cash = initial\n",
    "# Asset\n",
    "Y_shares = 0\n",
    "X_shares = 0\n",
    "Y_assetValue = 0\n",
    "X_assetValue = 0\n",
    "PortfolioValue = Y_assetValue+X_assetValue\n",
    "# Equity\n",
    "Equity = Cash + PortfolioValue\n",
    "\n",
    "\n",
    "trade_size = Cash * bet_size\n",
    "\n",
    "cash_list, portfolio_list, equity_list = list(),list(),list()\n",
    "for t in pair_prices.index:\n",
    "    ## Before the market: nothing to do yet\n",
    "    \n",
    "    ## During the market: we calculate the indicator, and place order or just hold\n",
    "    Y_price_t =  pair_prices.loc[t,Y.name]\n",
    "    X_price_t =  pair_prices.loc[t,X.name]\n",
    "    beta = pair_prices.loc[t,'beta_coint']\n",
    "    if pair_prices.loc[t,'normalized resid']>=Z and hold_position==0:\n",
    "        ### if open signal ==1, which means e_t = Y-𝛽X-𝛼 beyond the upper threshold\n",
    "        ### We go short Y and long X to expect the e_t going down\n",
    "        ## place_order(contract, action, quantity)\n",
    "        spread = Y_price_t - beta * X_price_t\n",
    "        order_number = trade_size/spread\n",
    "        \n",
    "        place_order('Y', action = -1, quantity = order_number)\n",
    "        place_order('X', action = 1, quantity = order_number * beta)\n",
    "        hold_position = -1\n",
    "\n",
    "        \n",
    "    elif pair_prices.loc[t,'normalized resid']<=-Z and hold_position==0:\n",
    "        ### if open signal ==-1, which means e_t = Y-𝛽X-𝛼 less than the lower threshold\n",
    "        ### We go long Y and short X to expect the e_t going up\n",
    "        ## place_order(contract, action, quantity)\n",
    "        spread = Y_price_t - beta * X_price_t\n",
    "        order_number = trade_size/spread ## negative\n",
    "        place_order('Y', action = 1, quantity = order_number)\n",
    "        place_order('X', action = -1, quantity = order_number * beta)\n",
    "        hold_position = 1\n",
    "\n",
    "    \n",
    "\n",
    "    ## after the market: recalculate the daily PnL, returns, market value, equity, etc.\n",
    "    PortfolioValue+= (Y_assetValue+X_assetValue)\n",
    "    Equity = Cash + PortfolioValue\n",
    "       \n",
    "        \n",
    "    \n"
   ],
   "metadata": {
    "collapsed": false,
    "pycharm": {
     "name": "#%%\n"
    }
   }
  },
  {
   "cell_type": "code",
   "execution_count": null,
   "outputs": [],
   "source": [
    "np.floor(2.178,2)"
   ],
   "metadata": {
    "collapsed": false,
    "pycharm": {
     "name": "#%%\n"
    }
   }
  },
  {
   "cell_type": "code",
   "execution_count": null,
   "outputs": [],
   "source": [
    "residuals"
   ],
   "metadata": {
    "collapsed": false,
    "pycharm": {
     "name": "#%%\n"
    }
   }
  },
  {
   "cell_type": "code",
   "execution_count": null,
   "outputs": [],
   "source": [
    "class Line:\n",
    "    def __init__"
   ],
   "metadata": {
    "collapsed": false,
    "pycharm": {
     "name": "#%%\n"
    }
   }
  },
  {
   "cell_type": "code",
   "execution_count": null,
   "id": "042d31f9",
   "metadata": {},
   "outputs": [],
   "source": [
    "class Line:\n",
    "    def __init__"
   ]
  },
  {
   "cell_type": "code",
   "execution_count": null,
   "id": "a8b0303f",
   "metadata": {},
   "outputs": [],
   "source": []
  },
  {
   "cell_type": "code",
   "execution_count": null,
   "id": "b61c8448",
   "metadata": {},
   "outputs": [],
   "source": []
  },
  {
   "cell_type": "code",
   "execution_count": null,
   "id": "3a19516c",
   "metadata": {},
   "outputs": [],
   "source": []
  },
  {
   "cell_type": "markdown",
   "id": "5d6b2dc6",
   "metadata": {
    "pycharm": {
     "name": "#%% md\n"
    }
   },
   "source": [
    "# Source:\n",
    "[1] https://www.sciencedirect.com/science/article/abs/pii/S1386418114000809\n",
    "\n",
    "[2] https://github.com/cantaro86/Financial-Models-Numerical-Methods/blob/master/6.1%20Ornstein-Uhlenbeck%20process%20and%20applications.ipynb"
   ]
  },
  {
   "cell_type": "code",
   "execution_count": 507,
   "id": "0e54726d",
   "metadata": {
    "pycharm": {
     "name": "#%%\n"
    }
   },
   "outputs": [
    {
     "data": {
      "text/html": [
       "<div>\n",
       "<style scoped>\n",
       "    .dataframe tbody tr th:only-of-type {\n",
       "        vertical-align: middle;\n",
       "    }\n",
       "\n",
       "    .dataframe tbody tr th {\n",
       "        vertical-align: top;\n",
       "    }\n",
       "\n",
       "    .dataframe thead th {\n",
       "        text-align: right;\n",
       "    }\n",
       "</style>\n",
       "<table border=\"1\" class=\"dataframe\">\n",
       "  <thead>\n",
       "    <tr style=\"text-align: right;\">\n",
       "      <th></th>\n",
       "      <th>E-Mini S&amp;P 500</th>\n",
       "      <th>Natural Gas</th>\n",
       "    </tr>\n",
       "    <tr>\n",
       "      <th>Date</th>\n",
       "      <th></th>\n",
       "      <th></th>\n",
       "    </tr>\n",
       "  </thead>\n",
       "  <tbody>\n",
       "    <tr>\n",
       "      <th>2005-01-03</th>\n",
       "      <td>1206.25</td>\n",
       "      <td>5.790</td>\n",
       "    </tr>\n",
       "    <tr>\n",
       "      <th>2005-01-04</th>\n",
       "      <td>1191.00</td>\n",
       "      <td>5.902</td>\n",
       "    </tr>\n",
       "    <tr>\n",
       "      <th>2005-01-05</th>\n",
       "      <td>1183.25</td>\n",
       "      <td>5.833</td>\n",
       "    </tr>\n",
       "    <tr>\n",
       "      <th>2005-01-06</th>\n",
       "      <td>1188.25</td>\n",
       "      <td>6.049</td>\n",
       "    </tr>\n",
       "    <tr>\n",
       "      <th>2005-01-07</th>\n",
       "      <td>1186.25</td>\n",
       "      <td>6.001</td>\n",
       "    </tr>\n",
       "    <tr>\n",
       "      <th>...</th>\n",
       "      <td>...</td>\n",
       "      <td>...</td>\n",
       "    </tr>\n",
       "    <tr>\n",
       "      <th>2022-07-25</th>\n",
       "      <td>3970.00</td>\n",
       "      <td>8.727</td>\n",
       "    </tr>\n",
       "    <tr>\n",
       "      <th>2022-07-26</th>\n",
       "      <td>3923.25</td>\n",
       "      <td>8.993</td>\n",
       "    </tr>\n",
       "    <tr>\n",
       "      <th>2022-07-27</th>\n",
       "      <td>4024.50</td>\n",
       "      <td>8.687</td>\n",
       "    </tr>\n",
       "    <tr>\n",
       "      <th>2022-07-28</th>\n",
       "      <td>4073.50</td>\n",
       "      <td>8.134</td>\n",
       "    </tr>\n",
       "    <tr>\n",
       "      <th>2022-07-29</th>\n",
       "      <td>4133.50</td>\n",
       "      <td>8.229</td>\n",
       "    </tr>\n",
       "  </tbody>\n",
       "</table>\n",
       "<p>4414 rows × 2 columns</p>\n",
       "</div>"
      ],
      "text/plain": [
       "            E-Mini S&P 500  Natural Gas\n",
       "Date                                   \n",
       "2005-01-03         1206.25        5.790\n",
       "2005-01-04         1191.00        5.902\n",
       "2005-01-05         1183.25        5.833\n",
       "2005-01-06         1188.25        6.049\n",
       "2005-01-07         1186.25        6.001\n",
       "...                    ...          ...\n",
       "2022-07-25         3970.00        8.727\n",
       "2022-07-26         3923.25        8.993\n",
       "2022-07-27         4024.50        8.687\n",
       "2022-07-28         4073.50        8.134\n",
       "2022-07-29         4133.50        8.229\n",
       "\n",
       "[4414 rows x 2 columns]"
      ]
     },
     "execution_count": 507,
     "metadata": {},
     "output_type": "execute_result"
    }
   ],
   "source": [
    "price_commodity.iloc[:,[1,3]]"
   ]
  },
  {
   "cell_type": "code",
   "execution_count": 508,
   "id": "9b6cc6a7",
   "metadata": {},
   "outputs": [],
   "source": [
    "adfuller?"
   ]
  },
  {
   "cell_type": "code",
   "execution_count": null,
   "id": "33f707de",
   "metadata": {},
   "outputs": [],
   "source": []
  }
 ],
 "metadata": {
  "kernelspec": {
   "display_name": "Python 3 (ipykernel)",
   "language": "python",
   "name": "python3"
  },
  "language_info": {
   "codemirror_mode": {
    "name": "ipython",
    "version": 3
   },
   "file_extension": ".py",
   "mimetype": "text/x-python",
   "name": "python",
   "nbconvert_exporter": "python",
   "pygments_lexer": "ipython3",
   "version": "3.10.2"
  }
 },
 "nbformat": 4,
 "nbformat_minor": 5
}